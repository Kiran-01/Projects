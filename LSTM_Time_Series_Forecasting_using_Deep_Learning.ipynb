{
  "nbformat": 4,
  "nbformat_minor": 0,
  "metadata": {
    "colab": {
      "name": "LSTM_Time Series Forecasting using Deep Learning.ipynb",
      "provenance": [],
      "collapsed_sections": [],
      "authorship_tag": "ABX9TyOs2h3uclTDPorYxA/XPKB8",
      "include_colab_link": true
    },
    "kernelspec": {
      "name": "python3",
      "display_name": "Python 3"
    }
  },
  "cells": [
    {
      "cell_type": "markdown",
      "metadata": {
        "id": "view-in-github",
        "colab_type": "text"
      },
      "source": [
        "<a href=\"https://colab.research.google.com/github/Kiran-01/Projects/blob/master/LSTM_Time_Series_Forecasting_using_Deep_Learning.ipynb\" target=\"_parent\"><img src=\"https://colab.research.google.com/assets/colab-badge.svg\" alt=\"Open In Colab\"/></a>"
      ]
    },
    {
      "cell_type": "code",
      "metadata": {
        "id": "WicoUDMjSWap"
      },
      "source": [
        "import numpy as np\n",
        "import pandas as pd\n",
        "import math\n",
        "from keras.models import Sequential\n",
        "from keras.layers import Dense\n",
        "from keras.layers import LSTM"
      ],
      "execution_count": null,
      "outputs": []
    },
    {
      "cell_type": "code",
      "metadata": {
        "id": "7Z1cluO2ThuI"
      },
      "source": [
        "from sklearn.preprocessing import MinMaxScaler\n",
        "from sklearn.metrics import mean_squared_error"
      ],
      "execution_count": null,
      "outputs": []
    },
    {
      "cell_type": "code",
      "metadata": {
        "id": "zW_d5YsuTrlY"
      },
      "source": [
        "# for reproducibility of the results, lets fix a seed function\n",
        "np.random.seed(1234)"
      ],
      "execution_count": null,
      "outputs": []
    },
    {
      "cell_type": "code",
      "metadata": {
        "id": "nEi80_r1UMe0"
      },
      "source": [
        "df = pd.read_csv('international-airline-passengers.csv', usecols=[1], engine='python', skipfooter=3)"
      ],
      "execution_count": null,
      "outputs": []
    },
    {
      "cell_type": "code",
      "metadata": {
        "colab": {
          "base_uri": "https://localhost:8080/",
          "height": 204
        },
        "id": "P28-yETQUdrb",
        "outputId": "657f693f-c0c9-4836-b4d3-e2541ca42912"
      },
      "source": [
        "df.head()"
      ],
      "execution_count": null,
      "outputs": [
        {
          "output_type": "execute_result",
          "data": {
            "text/html": [
              "<div>\n",
              "<style scoped>\n",
              "    .dataframe tbody tr th:only-of-type {\n",
              "        vertical-align: middle;\n",
              "    }\n",
              "\n",
              "    .dataframe tbody tr th {\n",
              "        vertical-align: top;\n",
              "    }\n",
              "\n",
              "    .dataframe thead th {\n",
              "        text-align: right;\n",
              "    }\n",
              "</style>\n",
              "<table border=\"1\" class=\"dataframe\">\n",
              "  <thead>\n",
              "    <tr style=\"text-align: right;\">\n",
              "      <th></th>\n",
              "      <th>International airline passengers: monthly totals in thousands. Jan 49 ? Dec 60</th>\n",
              "    </tr>\n",
              "  </thead>\n",
              "  <tbody>\n",
              "    <tr>\n",
              "      <th>0</th>\n",
              "      <td>112</td>\n",
              "    </tr>\n",
              "    <tr>\n",
              "      <th>1</th>\n",
              "      <td>118</td>\n",
              "    </tr>\n",
              "    <tr>\n",
              "      <th>2</th>\n",
              "      <td>132</td>\n",
              "    </tr>\n",
              "    <tr>\n",
              "      <th>3</th>\n",
              "      <td>129</td>\n",
              "    </tr>\n",
              "    <tr>\n",
              "      <th>4</th>\n",
              "      <td>121</td>\n",
              "    </tr>\n",
              "  </tbody>\n",
              "</table>\n",
              "</div>"
            ],
            "text/plain": [
              "   International airline passengers: monthly totals in thousands. Jan 49 ? Dec 60\n",
              "0                                                112                             \n",
              "1                                                118                             \n",
              "2                                                132                             \n",
              "3                                                129                             \n",
              "4                                                121                             "
            ]
          },
          "metadata": {
            "tags": []
          },
          "execution_count": 12
        }
      ]
    },
    {
      "cell_type": "code",
      "metadata": {
        "id": "8kx_p2krU3ZY"
      },
      "source": [
        "df = df.values\n",
        "df = df.astype('float32')"
      ],
      "execution_count": null,
      "outputs": []
    },
    {
      "cell_type": "code",
      "metadata": {
        "id": "6jz8VzNzWLG3"
      },
      "source": [
        "#Normalize the data\n",
        "scaler = MinMaxScaler(feature_range=(0,1))\n",
        "df = scaler.fit_transform(df)"
      ],
      "execution_count": null,
      "outputs": []
    },
    {
      "cell_type": "code",
      "metadata": {
        "colab": {
          "base_uri": "https://localhost:8080/"
        },
        "id": "URh0yjGMWNF-",
        "outputId": "f4263094-9fd1-4857-9b50-3f0d78f2aa15"
      },
      "source": [
        "df"
      ],
      "execution_count": null,
      "outputs": [
        {
          "output_type": "execute_result",
          "data": {
            "text/plain": [
              "array([[0.01544401],\n",
              "       [0.02702703],\n",
              "       [0.05405405],\n",
              "       [0.04826255],\n",
              "       [0.03281853],\n",
              "       [0.05984557],\n",
              "       [0.08494207],\n",
              "       [0.08494207],\n",
              "       [0.06177607],\n",
              "       [0.02895753],\n",
              "       [0.        ],\n",
              "       [0.02702703],\n",
              "       [0.02123553],\n",
              "       [0.04247104],\n",
              "       [0.07142857],\n",
              "       [0.05984557],\n",
              "       [0.04054055],\n",
              "       [0.08687258],\n",
              "       [0.12741312],\n",
              "       [0.12741312],\n",
              "       [0.10424709],\n",
              "       [0.05598456],\n",
              "       [0.01930502],\n",
              "       [0.06949806],\n",
              "       [0.07915059],\n",
              "       [0.08880308],\n",
              "       [0.14285713],\n",
              "       [0.11389962],\n",
              "       [0.13127413],\n",
              "       [0.14285713],\n",
              "       [0.18339768],\n",
              "       [0.18339768],\n",
              "       [0.15444016],\n",
              "       [0.11196911],\n",
              "       [0.08108109],\n",
              "       [0.1196911 ],\n",
              "       [0.12934363],\n",
              "       [0.14671814],\n",
              "       [0.17181468],\n",
              "       [0.14864865],\n",
              "       [0.15250966],\n",
              "       [0.22007722],\n",
              "       [0.24324325],\n",
              "       [0.26640925],\n",
              "       [0.2027027 ],\n",
              "       [0.16795367],\n",
              "       [0.13127413],\n",
              "       [0.17374519],\n",
              "       [0.17760617],\n",
              "       [0.17760617],\n",
              "       [0.25482625],\n",
              "       [0.25289574],\n",
              "       [0.24131274],\n",
              "       [0.26833975],\n",
              "       [0.3088803 ],\n",
              "       [0.32432434],\n",
              "       [0.25675675],\n",
              "       [0.20656371],\n",
              "       [0.14671814],\n",
              "       [0.18725869],\n",
              "       [0.19305018],\n",
              "       [0.16216215],\n",
              "       [0.25289574],\n",
              "       [0.23745173],\n",
              "       [0.25096524],\n",
              "       [0.3088803 ],\n",
              "       [0.38223937],\n",
              "       [0.36486486],\n",
              "       [0.2992278 ],\n",
              "       [0.24131274],\n",
              "       [0.1911197 ],\n",
              "       [0.24131274],\n",
              "       [0.26640925],\n",
              "       [0.24903473],\n",
              "       [0.31467178],\n",
              "       [0.3185328 ],\n",
              "       [0.32046333],\n",
              "       [0.4073359 ],\n",
              "       [0.5019305 ],\n",
              "       [0.46911195],\n",
              "       [0.40154442],\n",
              "       [0.32818535],\n",
              "       [0.25675675],\n",
              "       [0.3359073 ],\n",
              "       [0.34749034],\n",
              "       [0.33397684],\n",
              "       [0.41119692],\n",
              "       [0.4034749 ],\n",
              "       [0.4131274 ],\n",
              "       [0.52123547],\n",
              "       [0.5965251 ],\n",
              "       [0.58108103],\n",
              "       [0.484556  ],\n",
              "       [0.3899614 ],\n",
              "       [0.3223938 ],\n",
              "       [0.3899614 ],\n",
              "       [0.4073359 ],\n",
              "       [0.3803089 ],\n",
              "       [0.48648646],\n",
              "       [0.47104248],\n",
              "       [0.484556  ],\n",
              "       [0.6138996 ],\n",
              "       [0.6969112 ],\n",
              "       [0.70077217],\n",
              "       [0.57915056],\n",
              "       [0.46911195],\n",
              "       [0.38803086],\n",
              "       [0.44787642],\n",
              "       [0.45559844],\n",
              "       [0.4131274 ],\n",
              "       [0.4980695 ],\n",
              "       [0.47104248],\n",
              "       [0.49999997],\n",
              "       [0.6389961 ],\n",
              "       [0.7471043 ],\n",
              "       [0.7741313 ],\n",
              "       [0.57915056],\n",
              "       [0.492278  ],\n",
              "       [0.3976834 ],\n",
              "       [0.44980696],\n",
              "       [0.49420848],\n",
              "       [0.45945945],\n",
              "       [0.5830116 ],\n",
              "       [0.5637065 ],\n",
              "       [0.61003864],\n",
              "       [0.71042466],\n",
              "       [0.8571429 ],\n",
              "       [0.8783784 ],\n",
              "       [0.69305015],\n",
              "       [0.5849421 ],\n",
              "       [0.4980695 ],\n",
              "       [0.58108103],\n",
              "       [0.6042471 ],\n",
              "       [0.554054  ],\n",
              "       [0.60810804],\n",
              "       [0.6891892 ],\n",
              "       [0.71042466],\n",
              "       [0.8320464 ],\n",
              "       [1.        ],\n",
              "       [0.96911204],\n",
              "       [0.7799227 ],\n",
              "       [0.6891892 ],\n",
              "       [0.55212355],\n",
              "       [0.6332046 ]], dtype=float32)"
            ]
          },
          "metadata": {
            "tags": []
          },
          "execution_count": 20
        }
      ]
    },
    {
      "cell_type": "code",
      "metadata": {
        "id": "ZrByiqfGW3dC"
      },
      "source": [
        "train_size = int(len(df)*0.67)"
      ],
      "execution_count": null,
      "outputs": []
    },
    {
      "cell_type": "code",
      "metadata": {
        "colab": {
          "base_uri": "https://localhost:8080/"
        },
        "id": "0uU46PQ1XBHh",
        "outputId": "24f3bad6-a5c8-4ffd-bd27-75c2177c214d"
      },
      "source": [
        "print(train_size)"
      ],
      "execution_count": null,
      "outputs": [
        {
          "output_type": "stream",
          "text": [
            "96\n"
          ],
          "name": "stdout"
        }
      ]
    },
    {
      "cell_type": "code",
      "metadata": {
        "id": "UgygR1TpXDLp"
      },
      "source": [
        "test_size = len(df) - train_size"
      ],
      "execution_count": null,
      "outputs": []
    },
    {
      "cell_type": "code",
      "metadata": {
        "colab": {
          "base_uri": "https://localhost:8080/"
        },
        "id": "at1UCeIoXcOn",
        "outputId": "e89af52d-0b14-4ed2-8355-ec677ba78672"
      },
      "source": [
        "print(test_size)"
      ],
      "execution_count": null,
      "outputs": [
        {
          "output_type": "stream",
          "text": [
            "48\n"
          ],
          "name": "stdout"
        }
      ]
    },
    {
      "cell_type": "code",
      "metadata": {
        "id": "waWflFL1Xgl-"
      },
      "source": [
        ""
      ],
      "execution_count": null,
      "outputs": []
    },
    {
      "cell_type": "code",
      "metadata": {
        "id": "PWTJK600Xjo3"
      },
      "source": [
        "train, test = df[0: train_size, :], df[train_size: len(df), :]"
      ],
      "execution_count": null,
      "outputs": []
    },
    {
      "cell_type": "code",
      "metadata": {
        "colab": {
          "base_uri": "https://localhost:8080/"
        },
        "id": "hOCbYo1IY4OH",
        "outputId": "27fb4956-0393-4b61-810b-743c95f43854"
      },
      "source": [
        "print(len(train), len(test))"
      ],
      "execution_count": null,
      "outputs": [
        {
          "output_type": "stream",
          "text": [
            "96 48\n"
          ],
          "name": "stdout"
        }
      ]
    },
    {
      "cell_type": "code",
      "metadata": {
        "id": "_qViVI4QY9yG"
      },
      "source": [
        "# Create dataset matrix\n",
        "\n",
        "def create_dataset(df, look_back = 1):\n",
        "  dataX, dataY = [], []\n",
        "  for i in range(len(df)- look_back - 1):\n",
        "    a = df[i:(i+look_back), 0]\n",
        "    dataX.append(a)\n",
        "    dataY.append(df[i+look_back, 0])\n",
        "  return np.array(dataX), np.array(dataY)"
      ],
      "execution_count": null,
      "outputs": []
    },
    {
      "cell_type": "code",
      "metadata": {
        "id": "kvmDiyam3Q74"
      },
      "source": [
        "dataX"
      ],
      "execution_count": null,
      "outputs": []
    },
    {
      "cell_type": "code",
      "metadata": {
        "id": "LBQVUZ1mkGXq"
      },
      "source": [
        "# reshape dataset X = current time, Y = future time\n",
        "look_back = 1\n",
        "trainX, trainY = create_dataset(train, look_back)\n",
        "testX, testY = create_dataset(test, look_back)"
      ],
      "execution_count": null,
      "outputs": []
    },
    {
      "cell_type": "code",
      "metadata": {
        "id": "-hISU0WClC89"
      },
      "source": [
        "trainX = np.reshape(trainX, (trainX.shape[0], 1, trainX.shape[1]))\n",
        "testX = np.reshape(testX, (testX.shape[0], 1, testX.shape[1]))"
      ],
      "execution_count": null,
      "outputs": []
    },
    {
      "cell_type": "code",
      "metadata": {
        "colab": {
          "base_uri": "https://localhost:8080/"
        },
        "id": "bXvvjaHJnZxl",
        "outputId": "859cbdab-7424-4be2-ebe9-91dd80e6ab22"
      },
      "source": [
        "print(trainX)"
      ],
      "execution_count": null,
      "outputs": [
        {
          "output_type": "stream",
          "text": [
            "[[[0.01544401]]\n",
            "\n",
            " [[0.02702703]]\n",
            "\n",
            " [[0.05405405]]\n",
            "\n",
            " [[0.04826255]]\n",
            "\n",
            " [[0.03281853]]\n",
            "\n",
            " [[0.05984557]]\n",
            "\n",
            " [[0.08494207]]\n",
            "\n",
            " [[0.08494207]]\n",
            "\n",
            " [[0.06177607]]\n",
            "\n",
            " [[0.02895753]]\n",
            "\n",
            " [[0.        ]]\n",
            "\n",
            " [[0.02702703]]\n",
            "\n",
            " [[0.02123553]]\n",
            "\n",
            " [[0.04247104]]\n",
            "\n",
            " [[0.07142857]]\n",
            "\n",
            " [[0.05984557]]\n",
            "\n",
            " [[0.04054055]]\n",
            "\n",
            " [[0.08687258]]\n",
            "\n",
            " [[0.12741312]]\n",
            "\n",
            " [[0.12741312]]\n",
            "\n",
            " [[0.10424709]]\n",
            "\n",
            " [[0.05598456]]\n",
            "\n",
            " [[0.01930502]]\n",
            "\n",
            " [[0.06949806]]\n",
            "\n",
            " [[0.07915059]]\n",
            "\n",
            " [[0.08880308]]\n",
            "\n",
            " [[0.14285713]]\n",
            "\n",
            " [[0.11389962]]\n",
            "\n",
            " [[0.13127413]]\n",
            "\n",
            " [[0.14285713]]\n",
            "\n",
            " [[0.18339768]]\n",
            "\n",
            " [[0.18339768]]\n",
            "\n",
            " [[0.15444016]]\n",
            "\n",
            " [[0.11196911]]\n",
            "\n",
            " [[0.08108109]]\n",
            "\n",
            " [[0.1196911 ]]\n",
            "\n",
            " [[0.12934363]]\n",
            "\n",
            " [[0.14671814]]\n",
            "\n",
            " [[0.17181468]]\n",
            "\n",
            " [[0.14864865]]\n",
            "\n",
            " [[0.15250966]]\n",
            "\n",
            " [[0.22007722]]\n",
            "\n",
            " [[0.24324325]]\n",
            "\n",
            " [[0.26640925]]\n",
            "\n",
            " [[0.2027027 ]]\n",
            "\n",
            " [[0.16795367]]\n",
            "\n",
            " [[0.13127413]]\n",
            "\n",
            " [[0.17374519]]\n",
            "\n",
            " [[0.17760617]]\n",
            "\n",
            " [[0.17760617]]\n",
            "\n",
            " [[0.25482625]]\n",
            "\n",
            " [[0.25289574]]\n",
            "\n",
            " [[0.24131274]]\n",
            "\n",
            " [[0.26833975]]\n",
            "\n",
            " [[0.3088803 ]]\n",
            "\n",
            " [[0.32432434]]\n",
            "\n",
            " [[0.25675675]]\n",
            "\n",
            " [[0.20656371]]\n",
            "\n",
            " [[0.14671814]]\n",
            "\n",
            " [[0.18725869]]\n",
            "\n",
            " [[0.19305018]]\n",
            "\n",
            " [[0.16216215]]\n",
            "\n",
            " [[0.25289574]]\n",
            "\n",
            " [[0.23745173]]\n",
            "\n",
            " [[0.25096524]]\n",
            "\n",
            " [[0.3088803 ]]\n",
            "\n",
            " [[0.38223937]]\n",
            "\n",
            " [[0.36486486]]\n",
            "\n",
            " [[0.2992278 ]]\n",
            "\n",
            " [[0.24131274]]\n",
            "\n",
            " [[0.1911197 ]]\n",
            "\n",
            " [[0.24131274]]\n",
            "\n",
            " [[0.26640925]]\n",
            "\n",
            " [[0.24903473]]\n",
            "\n",
            " [[0.31467178]]\n",
            "\n",
            " [[0.3185328 ]]\n",
            "\n",
            " [[0.32046333]]\n",
            "\n",
            " [[0.4073359 ]]\n",
            "\n",
            " [[0.5019305 ]]\n",
            "\n",
            " [[0.46911195]]\n",
            "\n",
            " [[0.40154442]]\n",
            "\n",
            " [[0.32818535]]\n",
            "\n",
            " [[0.25675675]]\n",
            "\n",
            " [[0.3359073 ]]\n",
            "\n",
            " [[0.34749034]]\n",
            "\n",
            " [[0.33397684]]\n",
            "\n",
            " [[0.41119692]]\n",
            "\n",
            " [[0.4034749 ]]\n",
            "\n",
            " [[0.4131274 ]]\n",
            "\n",
            " [[0.52123547]]\n",
            "\n",
            " [[0.5965251 ]]\n",
            "\n",
            " [[0.58108103]]\n",
            "\n",
            " [[0.484556  ]]\n",
            "\n",
            " [[0.3899614 ]]]\n"
          ],
          "name": "stdout"
        }
      ]
    },
    {
      "cell_type": "code",
      "metadata": {
        "colab": {
          "base_uri": "https://localhost:8080/"
        },
        "id": "XypHf0sKnb_J",
        "outputId": "2cc5f4b2-bcd6-45ea-a9e7-8cdccd54f683"
      },
      "source": [
        "print(testX)"
      ],
      "execution_count": null,
      "outputs": [
        {
          "output_type": "stream",
          "text": [
            "[[[0.4073359 ]]\n",
            "\n",
            " [[0.3803089 ]]\n",
            "\n",
            " [[0.48648646]]\n",
            "\n",
            " [[0.47104248]]\n",
            "\n",
            " [[0.484556  ]]\n",
            "\n",
            " [[0.6138996 ]]\n",
            "\n",
            " [[0.6969112 ]]\n",
            "\n",
            " [[0.70077217]]\n",
            "\n",
            " [[0.57915056]]\n",
            "\n",
            " [[0.46911195]]\n",
            "\n",
            " [[0.38803086]]\n",
            "\n",
            " [[0.44787642]]\n",
            "\n",
            " [[0.45559844]]\n",
            "\n",
            " [[0.4131274 ]]\n",
            "\n",
            " [[0.4980695 ]]\n",
            "\n",
            " [[0.47104248]]\n",
            "\n",
            " [[0.49999997]]\n",
            "\n",
            " [[0.6389961 ]]\n",
            "\n",
            " [[0.7471043 ]]\n",
            "\n",
            " [[0.7741313 ]]\n",
            "\n",
            " [[0.57915056]]\n",
            "\n",
            " [[0.492278  ]]\n",
            "\n",
            " [[0.3976834 ]]\n",
            "\n",
            " [[0.44980696]]\n",
            "\n",
            " [[0.49420848]]\n",
            "\n",
            " [[0.45945945]]\n",
            "\n",
            " [[0.5830116 ]]\n",
            "\n",
            " [[0.5637065 ]]\n",
            "\n",
            " [[0.61003864]]\n",
            "\n",
            " [[0.71042466]]\n",
            "\n",
            " [[0.8571429 ]]\n",
            "\n",
            " [[0.8783784 ]]\n",
            "\n",
            " [[0.69305015]]\n",
            "\n",
            " [[0.5849421 ]]\n",
            "\n",
            " [[0.4980695 ]]\n",
            "\n",
            " [[0.58108103]]\n",
            "\n",
            " [[0.6042471 ]]\n",
            "\n",
            " [[0.554054  ]]\n",
            "\n",
            " [[0.60810804]]\n",
            "\n",
            " [[0.6891892 ]]\n",
            "\n",
            " [[0.71042466]]\n",
            "\n",
            " [[0.8320464 ]]\n",
            "\n",
            " [[1.        ]]\n",
            "\n",
            " [[0.96911204]]\n",
            "\n",
            " [[0.7799227 ]]\n",
            "\n",
            " [[0.6891892 ]]]\n"
          ],
          "name": "stdout"
        }
      ]
    },
    {
      "cell_type": "code",
      "metadata": {
        "id": "FR0w9mVFncAc"
      },
      "source": [
        ""
      ],
      "execution_count": null,
      "outputs": []
    },
    {
      "cell_type": "code",
      "metadata": {
        "id": "4lD9qtIqna9D"
      },
      "source": [
        "# LSTM (RNN) model"
      ],
      "execution_count": null,
      "outputs": []
    },
    {
      "cell_type": "code",
      "metadata": {
        "id": "RZI37FHVmRyI"
      },
      "source": [
        "model = Sequential()\n",
        "model.add(LSTM(4, input_shape = (1, look_back)))\n",
        "model.add(Dense(1))\n",
        "\n",
        "model.compile(loss = 'mean_squared_error', optimizer = 'adam')"
      ],
      "execution_count": null,
      "outputs": []
    },
    {
      "cell_type": "code",
      "metadata": {
        "colab": {
          "base_uri": "https://localhost:8080/"
        },
        "id": "-0HrAsHUob5u",
        "outputId": "952452d1-529d-4e0b-bbf6-eefdc97ed208"
      },
      "source": [
        "model.fit(trainX, trainY, batch_size = 1,verbose = 2)"
      ],
      "execution_count": null,
      "outputs": [
        {
          "output_type": "stream",
          "text": [
            "94/94 - 0s - loss: 0.0268\n"
          ],
          "name": "stdout"
        },
        {
          "output_type": "execute_result",
          "data": {
            "text/plain": [
              "<tensorflow.python.keras.callbacks.History at 0x7f2a2f18fef0>"
            ]
          },
          "metadata": {
            "tags": []
          },
          "execution_count": 47
        }
      ]
    },
    {
      "cell_type": "code",
      "metadata": {
        "id": "0wbjt7Arr13j"
      },
      "source": [
        "# make predictions\n",
        "trainPredict = model.predict(trainX)\n",
        "testPredict = model.predict(testX)"
      ],
      "execution_count": null,
      "outputs": []
    },
    {
      "cell_type": "code",
      "metadata": {
        "colab": {
          "base_uri": "https://localhost:8080/"
        },
        "id": "e4hRpbcmsdWw",
        "outputId": "683e3e18-053a-495e-974d-98deac3f97f3"
      },
      "source": [
        "print(trainPredict)"
      ],
      "execution_count": null,
      "outputs": [
        {
          "output_type": "stream",
          "text": [
            "[[0.17396227]\n",
            " [0.17351857]\n",
            " [0.17250296]\n",
            " [0.17271827]\n",
            " [0.17329863]\n",
            " [0.17228895]\n",
            " [0.17137645]\n",
            " [0.17137645]\n",
            " [0.1722179 ]\n",
            " [0.17344512]\n",
            " [0.17456165]\n",
            " [0.17351857]\n",
            " [0.17373979]\n",
            " [0.17293485]\n",
            " [0.17186478]\n",
            " [0.17228895]\n",
            " [0.17300731]\n",
            " [0.17130727]\n",
            " [0.16988796]\n",
            " [0.16988796]\n",
            " [0.17069113]\n",
            " [0.1724315 ]\n",
            " [0.17381382]\n",
            " [0.17193513]\n",
            " [0.17158487]\n",
            " [0.17123823]\n",
            " [0.1693643 ]\n",
            " [0.17035392]\n",
            " [0.16975617]\n",
            " [0.1693643 ]\n",
            " [0.16803497]\n",
            " [0.16803497]\n",
            " [0.16897777]\n",
            " [0.17042106]\n",
            " [0.17151526]\n",
            " [0.17015335]\n",
            " [0.16982199]\n",
            " [0.16923489]\n",
            " [0.16840804]\n",
            " [0.16917038]\n",
            " [0.16904183]\n",
            " [0.16688938]\n",
            " [0.16619414]\n",
            " [0.16552103]\n",
            " [0.16742522]\n",
            " [0.1685336 ]\n",
            " [0.16975617]\n",
            " [0.16834548]\n",
            " [0.16822083]\n",
            " [0.16822083]\n",
            " [0.16585481]\n",
            " [0.16591099]\n",
            " [0.16625124]\n",
            " [0.16546592]\n",
            " [0.16434479]\n",
            " [0.16393577]\n",
            " [0.16579881]\n",
            " [0.16730507]\n",
            " [0.16923489]\n",
            " [0.1679118 ]\n",
            " [0.1677282 ]\n",
            " [0.16872308]\n",
            " [0.16591099]\n",
            " [0.16636589]\n",
            " [0.16596732]\n",
            " [0.16434479]\n",
            " [0.16249135]\n",
            " [0.1629098 ]\n",
            " [0.16460551]\n",
            " [0.16625124]\n",
            " [0.16778925]\n",
            " [0.16625124]\n",
            " [0.16552103]\n",
            " [0.16602379]\n",
            " [0.16419023]\n",
            " [0.16408798]\n",
            " [0.16403708]\n",
            " [0.16190958]\n",
            " [0.15995832]\n",
            " [0.1605919 ]\n",
            " [0.16204143]\n",
            " [0.16383505]\n",
            " [0.16579881]\n",
            " [0.16363555]\n",
            " [0.163341  ]\n",
            " [0.1636852 ]\n",
            " [0.16182244]\n",
            " [0.16199732]\n",
            " [0.1617791 ]\n",
            " [0.15960725]\n",
            " [0.15839092]\n",
            " [0.15862055]\n",
            " [0.160288  ]\n",
            " [0.1623095 ]]\n"
          ],
          "name": "stdout"
        }
      ]
    },
    {
      "cell_type": "code",
      "metadata": {
        "colab": {
          "base_uri": "https://localhost:8080/"
        },
        "id": "GmvSjf9dslSW",
        "outputId": "ff45372a-819c-4d2c-d785-5b5cfc683705"
      },
      "source": [
        "print(testPredict)"
      ],
      "execution_count": null,
      "outputs": [
        {
          "output_type": "stream",
          "text": [
            "[[0.16190958]\n",
            " [0.16253722]\n",
            " [0.16025072]\n",
            " [0.16055337]\n",
            " [0.160288  ]\n",
            " [0.15814483]\n",
            " [0.15714742]\n",
            " [0.15710823]\n",
            " [0.15865001]\n",
            " [0.1605919 ]\n",
            " [0.16235472]\n",
            " [0.16102645]\n",
            " [0.1608662 ]\n",
            " [0.1617791 ]\n",
            " [0.16003048]\n",
            " [0.16055337]\n",
            " [0.15999433]\n",
            " [0.1578122 ]\n",
            " [0.15668696]\n",
            " [0.15648323]\n",
            " [0.15865001]\n",
            " [0.16013986]\n",
            " [0.16213018]\n",
            " [0.16098616]\n",
            " [0.16010325]\n",
            " [0.16078702]\n",
            " [0.15859133]\n",
            " [0.15889117]\n",
            " [0.1581984 ]\n",
            " [0.15701292]\n",
            " [0.15604939]\n",
            " [0.15598455]\n",
            " [0.15718731]\n",
            " [0.1585622 ]\n",
            " [0.16003048]\n",
            " [0.15862055]\n",
            " [0.15827994]\n",
            " [0.15904711]\n",
            " [0.1582254 ]\n",
            " [0.15722778]\n",
            " [0.15701292]\n",
            " [0.15615019]\n",
            " [0.15596859]\n",
            " [0.15591586]\n",
            " [0.15644358]\n",
            " [0.15722778]]\n"
          ],
          "name": "stdout"
        }
      ]
    },
    {
      "cell_type": "code",
      "metadata": {
        "id": "29qowDrSso0W"
      },
      "source": [
        "# Reverse the predicted values to actual values\n",
        "\n",
        "trainPredict = scaler.inverse_transform(trainPredict)\n",
        "testPredict = scaler.inverse_transform(testPredict)\n",
        "\n",
        "trainY = scaler.inverse_transform([trainY])\n",
        "testY = scaler.inverse_transform([testY])"
      ],
      "execution_count": null,
      "outputs": []
    },
    {
      "cell_type": "code",
      "metadata": {
        "colab": {
          "base_uri": "https://localhost:8080/"
        },
        "id": "Ne4xwvYrtNar",
        "outputId": "a43978dd-1e70-47e3-af62-d47e8ab11296"
      },
      "source": [
        "print(trainPredict, trainY)"
      ],
      "execution_count": null,
      "outputs": [
        {
          "output_type": "stream",
          "text": [
            "[[194.11246]\n",
            " [193.88261]\n",
            " [193.35654]\n",
            " [193.46806]\n",
            " [193.76869]\n",
            " [193.24568]\n",
            " [192.773  ]\n",
            " [192.773  ]\n",
            " [193.20888]\n",
            " [193.84457]\n",
            " [194.42294]\n",
            " [193.88261]\n",
            " [193.99721]\n",
            " [193.58026]\n",
            " [193.02596]\n",
            " [193.24568]\n",
            " [193.61778]\n",
            " [192.73717]\n",
            " [192.00197]\n",
            " [192.00197]\n",
            " [192.41801]\n",
            " [193.31952]\n",
            " [194.03555]\n",
            " [193.0624 ]\n",
            " [192.88097]\n",
            " [192.7014 ]\n",
            " [191.73071]\n",
            " [192.24333]\n",
            " [191.9337 ]\n",
            " [191.73071]\n",
            " [191.04211]\n",
            " [191.04211]\n",
            " [191.53049]\n",
            " [192.2781 ]\n",
            " [192.84491]\n",
            " [192.13943]\n",
            " [191.9678 ]\n",
            " [191.66368]\n",
            " [191.23537]\n",
            " [191.63026]\n",
            " [191.56367]\n",
            " [190.44872]\n",
            " [190.08856]\n",
            " [189.7399 ]\n",
            " [190.72626]\n",
            " [191.3004 ]\n",
            " [191.9337 ]\n",
            " [191.20296]\n",
            " [191.1384 ]\n",
            " [191.1384 ]\n",
            " [189.9128 ]\n",
            " [189.9419 ]\n",
            " [190.11815]\n",
            " [189.71135]\n",
            " [189.1306 ]\n",
            " [188.91872]\n",
            " [189.88379]\n",
            " [190.66403]\n",
            " [191.66368]\n",
            " [190.97832]\n",
            " [190.88321]\n",
            " [191.39856]\n",
            " [189.9419 ]\n",
            " [190.17754]\n",
            " [189.97107]\n",
            " [189.1306 ]\n",
            " [188.17052]\n",
            " [188.38728]\n",
            " [189.26567]\n",
            " [190.11815]\n",
            " [190.91483]\n",
            " [190.11815]\n",
            " [189.7399 ]\n",
            " [190.00032]\n",
            " [189.05054]\n",
            " [188.99757]\n",
            " [188.9712 ]\n",
            " [187.86917]\n",
            " [186.85841]\n",
            " [187.1866 ]\n",
            " [187.93745]\n",
            " [188.86656]\n",
            " [189.88379]\n",
            " [188.76321]\n",
            " [188.61064]\n",
            " [188.78894]\n",
            " [187.82402]\n",
            " [187.91461]\n",
            " [187.80157]\n",
            " [186.67656]\n",
            " [186.0465 ]\n",
            " [186.16545]\n",
            " [187.02919]\n",
            " [188.07632]] [[117.99999916 131.99999879 129.00000163 120.99999632 135.00000368\n",
            "  147.99999397 147.99999397 136.00000531 119.00000078 103.99999952\n",
            "  117.99999916 115.00000199 125.99999674 140.99999801 135.00000368\n",
            "  125.00000283 148.9999956  169.99999891 169.99999891 157.99999481\n",
            "  133.00000042 114.00000036 139.99999638 145.00000452 149.99999723\n",
            "  177.9999965  163.00000295 172.00000217 177.9999965  198.99999982\n",
            "  198.99999982 184.00000627 162.00000133 146.00000615 165.9999924\n",
            "  171.00000054 179.99999976 193.00000549 181.00000139 183.00000464\n",
            "  217.99999988 230.00000398 241.99999264 209.00000066 191.00000223\n",
            "  172.00000217 194.00000712 195.99999493 195.99999493 235.99999831\n",
            "  234.99999668 229.00000235 242.99999427 263.99999759 272.00001061\n",
            "  236.99999994 211.00000392 179.99999976 201.00000308 203.99999252\n",
            "  187.99999735 234.99999668 226.9999991  233.99999506 263.99999759\n",
            "  301.99999771 292.99999849 259.00000488 229.00000235 203.00000633\n",
            "  229.00000235 241.99999264 232.99999343 266.99998703 268.99999029\n",
            "  270.00000736 315.00000344 363.99999059 346.99999379 312.00001399\n",
            "  274.00001387 236.99999994 277.99998951 283.99999928 277.00000332\n",
            "  317.00000669 313.00000018 317.99999288 373.999976   412.99999319\n",
            "  404.99998016 355.00000681 306.00000422 270.99999355]]\n"
          ],
          "name": "stdout"
        }
      ]
    },
    {
      "cell_type": "code",
      "metadata": {
        "colab": {
          "base_uri": "https://localhost:8080/"
        },
        "id": "ZILoDrhJtTDj",
        "outputId": "e89101fe-5c11-49cc-d627-735c659e71dd"
      },
      "source": [
        "print(testPredict, testY)"
      ],
      "execution_count": null,
      "outputs": [
        {
          "output_type": "stream",
          "text": [
            "[[187.86917]\n",
            " [188.19427]\n",
            " [187.00987]\n",
            " [187.16664]\n",
            " [187.02919]\n",
            " [185.91902]\n",
            " [185.40237]\n",
            " [185.38206]\n",
            " [186.18071]\n",
            " [187.1866 ]\n",
            " [188.09976]\n",
            " [187.4117 ]\n",
            " [187.32869]\n",
            " [187.80157]\n",
            " [186.8958 ]\n",
            " [187.16664]\n",
            " [186.87706]\n",
            " [185.74672]\n",
            " [185.16385]\n",
            " [185.05832]\n",
            " [186.18071]\n",
            " [186.95245]\n",
            " [187.98343]\n",
            " [187.39082]\n",
            " [186.93347]\n",
            " [187.28767]\n",
            " [186.15031]\n",
            " [186.30563]\n",
            " [185.94676]\n",
            " [185.33269]\n",
            " [184.83359]\n",
            " [184.8    ]\n",
            " [185.42303]\n",
            " [186.13522]\n",
            " [186.8958 ]\n",
            " [186.16545]\n",
            " [185.989  ]\n",
            " [186.3864 ]\n",
            " [185.96075]\n",
            " [185.444  ]\n",
            " [185.33269]\n",
            " [184.8858 ]\n",
            " [184.79172]\n",
            " [184.76442]\n",
            " [185.03777]\n",
            " [185.444  ]] [[301.00001152 355.999993   348.00001085 355.00000681 421.9999924\n",
            "  465.0000161  466.99998848 403.99999397 346.99999379 304.99998716\n",
            "  335.99999132 339.99999783 317.99999288 362.00000277 348.00001085\n",
            "  362.99998896 434.99999813 491.00002756 505.00001948 403.99999397\n",
            "  359.00001333 310.00001073 337.00000838 359.99999952 342.00000109\n",
            "  406.0000281  395.99998094 420.00002002 471.99998119 548.00004318\n",
            "  559.00001477 462.99998197 407.00001429 362.00000277 404.99998016\n",
            "  416.9999997  390.99998824 418.99997208 461.00000959 471.99998119\n",
            "  535.00003745 622.00000929 606.00004499 507.99997805 461.00000959\n",
            "  390.00000205]]\n"
          ],
          "name": "stdout"
        }
      ]
    },
    {
      "cell_type": "code",
      "metadata": {
        "colab": {
          "base_uri": "https://localhost:8080/"
        },
        "id": "b4YWFNBPtfoS",
        "outputId": "67402272-5ca6-4ed2-fbfc-41acefaaa94e"
      },
      "source": [
        "# Calculate the RMSE\n",
        "\n",
        "trainScore = math.sqrt(mean_squared_error(trainY[0], trainPredict[:, 0]))\n",
        "print('Train : %.2f RMSE' % (trainScore))"
      ],
      "execution_count": null,
      "outputs": [
        {
          "output_type": "stream",
          "text": [
            "Train : 76.40 RMSE\n"
          ],
          "name": "stdout"
        }
      ]
    },
    {
      "cell_type": "code",
      "metadata": {
        "colab": {
          "base_uri": "https://localhost:8080/"
        },
        "id": "wLQzP9KSt8Mg",
        "outputId": "072354ad-34e1-4d22-dbef-57608d86551d"
      },
      "source": [
        "testScore = math.sqrt(mean_squared_error(testY[0], testPredict[:, 0] ))\n",
        "print('Test : %.2f RMSE' % (testScore))"
      ],
      "execution_count": null,
      "outputs": [
        {
          "output_type": "stream",
          "text": [
            "Test : 242.08 RMSE\n"
          ],
          "name": "stdout"
        }
      ]
    },
    {
      "cell_type": "code",
      "metadata": {
        "id": "O38GbnpGumYi"
      },
      "source": [
        ""
      ],
      "execution_count": null,
      "outputs": []
    },
    {
      "cell_type": "code",
      "metadata": {
        "id": "m7TAABacu5JB"
      },
      "source": [
        ""
      ],
      "execution_count": null,
      "outputs": []
    }
  ]
}